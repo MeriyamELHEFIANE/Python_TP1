{
 "cells": [
  {
   "cell_type": "code",
   "execution_count": 1,
   "id": "3b77942b-e835-430e-90e6-dd20a229d535",
   "metadata": {},
   "outputs": [
    {
     "name": "stdin",
     "output_type": "stream",
     "text": [
      "Entrer la note n1: 14\n",
      "Entrer la note n2: 20\n",
      "Entrer la note n3: 13\n"
     ]
    },
    {
     "name": "stdout",
     "output_type": "stream",
     "text": [
      "Votre moyenne est 15.666666666666666, avec une mention Bien\n"
     ]
    }
   ],
   "source": [
    "def moyenne(note1,note2,note3):\n",
    "    m=(note1+note2+note3)/3\n",
    "    if (note1>20 or note2>20 or note3>20 ):\n",
    "      print(\"Saisir des notes comprises entre 0 et 20 !!!!\")\n",
    "    else:\n",
    "            if m >= 16:\n",
    "                print(f\"Votre moyenne est {m}, avec une mention Très bien\")\n",
    "            elif m>=14 and m<=16:\n",
    "                  print(f\"Votre moyenne est {m}, avec une mention Bien\")\n",
    "            elif m>=12 and m<=14:\n",
    "                   print(f\"Votre moyenne est {m}, avec une mention Assez bien\")\n",
    "            elif m>=10 and m<=12:\n",
    "                  print(f\"Votre moyenne est {m}, avec une mention Passable\")\n",
    "            else:\n",
    "               print(f\"Votre moyenne {m}, avec mention une Insuffisant\")\n",
    "\n",
    "note1= float(input(\"Entrer la note n1:\"))\n",
    "note2= float(input(\"Entrer la note n2:\"))\n",
    "note3= float(input(\"Entrer la note n3:\"))\n",
    "moyenne(note1,note2,note3)"
   ]
  },
  {
   "cell_type": "code",
   "execution_count": null,
   "id": "4d7c76ee-6e8d-4a23-9b27-35c110a2b20f",
   "metadata": {},
   "outputs": [],
   "source": []
  }
 ],
 "metadata": {
  "kernelspec": {
   "display_name": "Python 3 (ipykernel)",
   "language": "python",
   "name": "python3"
  },
  "language_info": {
   "codemirror_mode": {
    "name": "ipython",
    "version": 3
   },
   "file_extension": ".py",
   "mimetype": "text/x-python",
   "name": "python",
   "nbconvert_exporter": "python",
   "pygments_lexer": "ipython3",
   "version": "3.11.7"
  }
 },
 "nbformat": 4,
 "nbformat_minor": 5
}
