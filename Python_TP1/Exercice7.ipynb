{
 "cells": [
  {
   "cell_type": "code",
   "execution_count": 2,
   "id": "bb7561ba-44ad-4b57-87f0-60de94cb9bc0",
   "metadata": {},
   "outputs": [
    {
     "name": "stdin",
     "output_type": "stream",
     "text": [
      "Entrez un entier non nul :  2\n"
     ]
    },
    {
     "name": "stdout",
     "output_type": "stream",
     "text": [
      "La somme des 2 premiers carrés est : 5\n"
     ]
    }
   ],
   "source": [
    "def carre(n):\n",
    "    s=0\n",
    "    for i in range(1,n+1):\n",
    "        s+=i**2\n",
    "    return s\n",
    "n = int(input(\"Entrez un entier non nul : \"))\n",
    "resultat = carre(n)\n",
    "print(\"La somme des\", n, \"premiers carrés est :\", resultat)"
   ]
  },
  {
   "cell_type": "code",
   "execution_count": null,
   "id": "57009c2e-96be-4f4b-b4ed-a53211b60c0e",
   "metadata": {},
   "outputs": [],
   "source": []
  }
 ],
 "metadata": {
  "kernelspec": {
   "display_name": "Python 3 (ipykernel)",
   "language": "python",
   "name": "python3"
  },
  "language_info": {
   "codemirror_mode": {
    "name": "ipython",
    "version": 3
   },
   "file_extension": ".py",
   "mimetype": "text/x-python",
   "name": "python",
   "nbconvert_exporter": "python",
   "pygments_lexer": "ipython3",
   "version": "3.11.7"
  }
 },
 "nbformat": 4,
 "nbformat_minor": 5
}
