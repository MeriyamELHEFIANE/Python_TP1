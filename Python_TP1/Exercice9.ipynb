{
 "cells": [
  {
   "cell_type": "code",
   "execution_count": 1,
   "id": "c9e43fe1-3ca6-4d0b-86f0-a403fc6b7f7b",
   "metadata": {},
   "outputs": [
    {
     "name": "stdin",
     "output_type": "stream",
     "text": [
      "Entrez un nombre entier :  6\n"
     ]
    },
    {
     "name": "stdout",
     "output_type": "stream",
     "text": [
      "6 est un nombre parfait.\n"
     ]
    }
   ],
   "source": [
    "def nombre_parfait(n):\n",
    "    if n <= 1:\n",
    "        return False\n",
    "    \n",
    "    s = 1  \n",
    "    for i in range(2, int(n**0.5) + 1):\n",
    "        if n % i == 0:\n",
    "            s += i\n",
    "            if i != n // i:\n",
    "                s += n // i\n",
    "    return s == n\n",
    "n = int(input(\"Entrez un nombre entier : \"))\n",
    "if nombre_parfait(n):\n",
    "    print(f\"{n} est un nombre parfait.\")\n",
    "else:\n",
    "    print(f\"{n} n'est pas un nombre parfait.\")"
   ]
  },
  {
   "cell_type": "code",
   "execution_count": null,
   "id": "026d7485-c99b-4f8b-a4f9-216338b7cc53",
   "metadata": {},
   "outputs": [],
   "source": []
  }
 ],
 "metadata": {
  "kernelspec": {
   "display_name": "Python 3 (ipykernel)",
   "language": "python",
   "name": "python3"
  },
  "language_info": {
   "codemirror_mode": {
    "name": "ipython",
    "version": 3
   },
   "file_extension": ".py",
   "mimetype": "text/x-python",
   "name": "python",
   "nbconvert_exporter": "python",
   "pygments_lexer": "ipython3",
   "version": "3.11.7"
  }
 },
 "nbformat": 4,
 "nbformat_minor": 5
}
