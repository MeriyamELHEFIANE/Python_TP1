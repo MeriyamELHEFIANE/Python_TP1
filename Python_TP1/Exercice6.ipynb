{
 "cells": [
  {
   "cell_type": "code",
   "execution_count": 1,
   "id": "097e4e7c-9d26-4747-bed9-e75169f0a751",
   "metadata": {},
   "outputs": [
    {
     "name": "stdin",
     "output_type": "stream",
     "text": [
      "Entrer un nombre : 10\n"
     ]
    },
    {
     "name": "stdout",
     "output_type": "stream",
     "text": [
      "11\n",
      "12\n",
      "13\n",
      "14\n",
      "15\n",
      "16\n",
      "17\n",
      "18\n",
      "19\n",
      "20\n"
     ]
    }
   ],
   "source": [
    "def ex6_for(l):\n",
    "    for i in range(l+1,l+11) :\n",
    "        print(i)\n",
    "        \n",
    "a=int(input(\"Entrer un nombre :\"))     \n",
    "ex6_for(a)"
   ]
  },
  {
   "cell_type": "code",
   "execution_count": 1,
   "id": "fca31496-afe7-4098-8db1-bf7dd54f0909",
   "metadata": {},
   "outputs": [
    {
     "name": "stdin",
     "output_type": "stream",
     "text": [
      "Entrer un nombre : 10\n"
     ]
    },
    {
     "name": "stdout",
     "output_type": "stream",
     "text": [
      "11\n",
      "12\n",
      "13\n",
      "14\n",
      "15\n",
      "16\n",
      "17\n",
      "18\n",
      "19\n",
      "20\n"
     ]
    }
   ],
   "source": [
    "def ex6_while(n):\n",
    "    i=0\n",
    "    while i<10:\n",
    "        n+=1\n",
    "        print(n)\n",
    "        i+=1\n",
    "        \n",
    "n=int(input(\"Entrer un nombre :\"))     \n",
    "ex6_while(n)"
   ]
  },
  {
   "cell_type": "code",
   "execution_count": null,
   "id": "dd20876e-0d33-4514-a367-1993999e39de",
   "metadata": {},
   "outputs": [],
   "source": []
  }
 ],
 "metadata": {
  "kernelspec": {
   "display_name": "Python 3 (ipykernel)",
   "language": "python",
   "name": "python3"
  },
  "language_info": {
   "codemirror_mode": {
    "name": "ipython",
    "version": 3
   },
   "file_extension": ".py",
   "mimetype": "text/x-python",
   "name": "python",
   "nbconvert_exporter": "python",
   "pygments_lexer": "ipython3",
   "version": "3.11.7"
  }
 },
 "nbformat": 4,
 "nbformat_minor": 5
}
