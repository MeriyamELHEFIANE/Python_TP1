{
 "cells": [
  {
   "cell_type": "code",
   "execution_count": 3,
   "id": "f79689ad-fc61-459d-85d7-c46ab9190426",
   "metadata": {},
   "outputs": [
    {
     "name": "stdin",
     "output_type": "stream",
     "text": [
      "Entrez la valeur de n :  3\n"
     ]
    },
    {
     "name": "stdout",
     "output_type": "stream",
     "text": [
      "La somme est : 1111\n"
     ]
    }
   ],
   "source": [
    "def somme(n):\n",
    "    s=0\n",
    "    for i in range(n+1):\n",
    "        s+=10**i\n",
    "    return s\n",
    "n = int(input(\"Entrez la valeur de n : \"))\n",
    "resultat = somme(n)\n",
    "print(\"La somme est :\", resultat)"
   ]
  },
  {
   "cell_type": "code",
   "execution_count": null,
   "id": "731abefe-1a9f-4542-97b0-cef75d2809ac",
   "metadata": {},
   "outputs": [],
   "source": []
  }
 ],
 "metadata": {
  "kernelspec": {
   "display_name": "Python 3 (ipykernel)",
   "language": "python",
   "name": "python3"
  },
  "language_info": {
   "codemirror_mode": {
    "name": "ipython",
    "version": 3
   },
   "file_extension": ".py",
   "mimetype": "text/x-python",
   "name": "python",
   "nbconvert_exporter": "python",
   "pygments_lexer": "ipython3",
   "version": "3.11.7"
  }
 },
 "nbformat": 4,
 "nbformat_minor": 5
}
