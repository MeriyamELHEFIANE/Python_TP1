{
 "cells": [
  {
   "cell_type": "code",
   "execution_count": 2,
   "id": "81393fe3-5a38-4363-b3ef-d984f9b35349",
   "metadata": {},
   "outputs": [
    {
     "name": "stdin",
     "output_type": "stream",
     "text": [
      "Entrez l'élément 1 du tableau :  1\n",
      "Entrez l'élément 2 du tableau :  5\n",
      "Entrez l'élément 3 du tableau :  2\n",
      "Entrez l'élément 4 du tableau :  7\n",
      "Entrez l'élément 5 du tableau :  4\n"
     ]
    },
    {
     "name": "stdout",
     "output_type": "stream",
     "text": [
      "Le tableau n'est pas trié dans l'ordre croissant.\n"
     ]
    }
   ],
   "source": [
    "def est_trie(t):\n",
    "    for i in range(len(t) - 1):\n",
    "        if t[i] > t[i + 1]:\n",
    "            return False\n",
    "    return True\n",
    "t = []\n",
    "for i in range(10):\n",
    "    element = int(input(f\"Entrez l'élément {i+1} du tableau : \"))\n",
    "    t.append(element)\n",
    "\n",
    "if est_trie(t):\n",
    "    print(\"Le tableau est trié dans l'ordre croissant\")\n",
    "else:\n",
    "    print(\"Le tableau n'est pas trié dans l'ordre croissant\")\n"
   ]
  },
  {
   "cell_type": "code",
   "execution_count": 11,
   "id": "b5a03ee3-068b-4bba-9b9e-bcd52c3a0e4b",
   "metadata": {},
   "outputs": [
    {
     "name": "stdout",
     "output_type": "stream",
     "text": [
      "Le produit scalaire de a et b est : 19\n"
     ]
    }
   ],
   "source": [
    "def produit_scalaire(v1, v2):\n",
    "    p = 0\n",
    "    for i in range(len(v1)):\n",
    "        p += v1[i] * v2[i]\n",
    "    return p\n",
    "    \n",
    "a = [2, 5, 3]\n",
    "b = [7, 1, 0]\n",
    "produit = produit_scalaire(a, b)\n",
    "print(\"Le produit scalaire de a et b est :\", produit)\n"
   ]
  },
  {
   "cell_type": "code",
   "execution_count": null,
   "id": "0dc6c123-9079-4d90-9ca5-9af276ddef46",
   "metadata": {},
   "outputs": [],
   "source": []
  }
 ],
 "metadata": {
  "kernelspec": {
   "display_name": "Python 3 (ipykernel)",
   "language": "python",
   "name": "python3"
  },
  "language_info": {
   "codemirror_mode": {
    "name": "ipython",
    "version": 3
   },
   "file_extension": ".py",
   "mimetype": "text/x-python",
   "name": "python",
   "nbconvert_exporter": "python",
   "pygments_lexer": "ipython3",
   "version": "3.11.7"
  }
 },
 "nbformat": 4,
 "nbformat_minor": 5
}
