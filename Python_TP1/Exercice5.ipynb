{
 "cells": [
  {
   "cell_type": "code",
   "execution_count": 1,
   "id": "b6a65d03-cab0-4880-84bb-21a5d59827f3",
   "metadata": {},
   "outputs": [
    {
     "name": "stdin",
     "output_type": "stream",
     "text": [
      "Entrer 1er nombre : 12\n",
      "Entrer 2eme nombre : 13\n",
      "Entrez l'opérateur (+, -, *, /) :  +\n"
     ]
    },
    {
     "name": "stdout",
     "output_type": "stream",
     "text": [
      "Résultat de l'opération :  25\n"
     ]
    }
   ],
   "source": [
    "def operation(a,b,op):\n",
    "    \n",
    "    if op == \"+\":\n",
    "        return a + b\n",
    "    elif op == \"*\":\n",
    "        return a * b \n",
    "    elif op == \"-\":\n",
    "        return a - b\n",
    "    elif op == \"/\":\n",
    "       if b != 0:\n",
    "            return a / b\n",
    "       else:\n",
    "            return \"Division par zéro impossible.\"\n",
    "    else:\n",
    "        return \"Opérateur non valide.\"\n",
    "a=int(input(\"Entrer 1er nombre :\"))\n",
    "b=int(input(\"Entrer 2eme nombre :\"))\n",
    "op = input(\"Entrez l'opérateur (+, -, *, /) : \")       \n",
    "resultat = operation(a,b,op)\n",
    "\n",
    "print(\"Résultat de l'opération : \", resultat)"
   ]
  },
  {
   "cell_type": "code",
   "execution_count": null,
   "id": "75194158-54bd-43c6-921f-6c9976979bd0",
   "metadata": {},
   "outputs": [],
   "source": []
  }
 ],
 "metadata": {
  "kernelspec": {
   "display_name": "Python 3 (ipykernel)",
   "language": "python",
   "name": "python3"
  },
  "language_info": {
   "codemirror_mode": {
    "name": "ipython",
    "version": 3
   },
   "file_extension": ".py",
   "mimetype": "text/x-python",
   "name": "python",
   "nbconvert_exporter": "python",
   "pygments_lexer": "ipython3",
   "version": "3.11.7"
  }
 },
 "nbformat": 4,
 "nbformat_minor": 5
}
